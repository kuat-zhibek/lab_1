{
 "cells": [
  {
   "cell_type": "markdown",
   "id": "81803a38-e8cc-483c-a99a-0e01c38e31f4",
   "metadata": {},
   "source": [
    "Example 1"
   ]
  },
  {
   "cell_type": "markdown",
   "id": "42ab3eed-abe7-4d61-a97f-1dbf39785d9b",
   "metadata": {},
   "source": [
    "Integers:"
   ]
  },
  {
   "cell_type": "code",
   "execution_count": null,
   "id": "e4ff454d-9a74-4a65-adbd-c96116a3557c",
   "metadata": {},
   "outputs": [],
   "source": [
    "x=int(1) #x will be 1\n",
    "y=int(2.8) #y will be 2\n",
    "z=int(\"3\") #z will be 3"
   ]
  },
  {
   "cell_type": "markdown",
   "id": "f944115a-cd5a-4dc0-b4dd-1d2953434e3b",
   "metadata": {},
   "source": [
    "Example 2"
   ]
  },
  {
   "cell_type": "markdown",
   "id": "e392314b-066d-40f1-8982-62e22a870681",
   "metadata": {},
   "source": [
    "Floats:"
   ]
  },
  {
   "cell_type": "code",
   "execution_count": null,
   "id": "4c5fd6fb-5b39-4bf9-bec5-d708b18c9bb8",
   "metadata": {},
   "outputs": [],
   "source": [
    "x=float(1) #x will be 1.0\n",
    "y=float(2.8) #y will be 2.8\n",
    "z=float(\"3\") #z will be 3.0\n",
    "w=float(\"4.2\") #w will be 4.2"
   ]
  },
  {
   "cell_type": "markdown",
   "id": "55d5acf7-1bbf-42fc-a60d-ae0b5de2bef9",
   "metadata": {},
   "source": [
    "Example 3"
   ]
  },
  {
   "cell_type": "raw",
   "id": "c2458bb2-f1d8-4768-907a-c1855c5d4749",
   "metadata": {},
   "source": [
    "Strings:"
   ]
  },
  {
   "cell_type": "code",
   "execution_count": null,
   "id": "007692f6-7c8d-484d-8e5e-39b3e9f268d4",
   "metadata": {},
   "outputs": [],
   "source": [
    "x=str(\"s1\") #x will be 's1'\n",
    "y=str(2) #y will be '2'\n",
    "z=str(3.0) #z will be '3.0'"
   ]
  }
 ],
 "metadata": {
  "kernelspec": {
   "display_name": "Python [conda env:base] *",
   "language": "python",
   "name": "conda-base-py"
  },
  "language_info": {
   "codemirror_mode": {
    "name": "ipython",
    "version": 3
   },
   "file_extension": ".py",
   "mimetype": "text/x-python",
   "name": "python",
   "nbconvert_exporter": "python",
   "pygments_lexer": "ipython3",
   "version": "3.12.7"
  }
 },
 "nbformat": 4,
 "nbformat_minor": 5
}

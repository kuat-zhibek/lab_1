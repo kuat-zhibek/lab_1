{
 "cells": [
  {
   "cell_type": "markdown",
   "id": "e8abc64a-b42b-4bf6-9efa-df60e4ba09c3",
   "metadata": {},
   "source": [
    "Example 1"
   ]
  },
  {
   "cell_type": "markdown",
   "id": "0bf0cc1d-e543-4b20-b0f7-d498893620ef",
   "metadata": {},
   "source": [
    "Legal var names"
   ]
  },
  {
   "cell_type": "code",
   "execution_count": null,
   "id": "1a9df174-2510-4954-8ebe-0dc28fc6d947",
   "metadata": {},
   "outputs": [],
   "source": [
    "myvar = \"John\"\n",
    "my_var = \"John\"\n",
    "_my_var = \"John\"\n",
    "myVar = \"John\"\n",
    "MYVAR = \"John\"\n",
    "myvar2 = \"John\""
   ]
  },
  {
   "cell_type": "markdown",
   "id": "4b03d032-e8ec-4b0b-a286-72b6a54af6fd",
   "metadata": {},
   "source": [
    "Example 2"
   ]
  },
  {
   "cell_type": "markdown",
   "id": "6dbc4afc-85bc-4cbf-aaf1-38e6d13d5fb8",
   "metadata": {},
   "source": [
    "Illegal var names"
   ]
  },
  {
   "cell_type": "code",
   "execution_count": null,
   "id": "c512af33-20ae-430b-968e-caafae80285f",
   "metadata": {},
   "outputs": [],
   "source": [
    "2myvar = \"John\"\n",
    "my-var = \"John\"\n",
    "my var = \"John\""
   ]
  }
 ],
 "metadata": {
  "kernelspec": {
   "display_name": "Python [conda env:base] *",
   "language": "python",
   "name": "conda-base-py"
  },
  "language_info": {
   "codemirror_mode": {
    "name": "ipython",
    "version": 3
   },
   "file_extension": ".py",
   "mimetype": "text/x-python",
   "name": "python",
   "nbconvert_exporter": "python",
   "pygments_lexer": "ipython3",
   "version": "3.12.7"
  }
 },
 "nbformat": 4,
 "nbformat_minor": 5
}

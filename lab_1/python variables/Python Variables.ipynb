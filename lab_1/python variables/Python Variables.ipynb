{
 "cells": [
  {
   "cell_type": "markdown",
   "id": "6286c46b-01c2-40ba-8273-fd46c9dac936",
   "metadata": {},
   "source": [
    "Example 1"
   ]
  },
  {
   "cell_type": "code",
   "execution_count": 2,
   "id": "e660b418-b008-4d6e-92ed-10e638edbd5c",
   "metadata": {},
   "outputs": [
    {
     "name": "stdout",
     "output_type": "stream",
     "text": [
      "5\n",
      "John\n"
     ]
    }
   ],
   "source": [
    "x = 5\n",
    "y = 'John'\n",
    "print(x)\n",
    "print(y)"
   ]
  },
  {
   "cell_type": "markdown",
   "id": "a872f80a-1254-4758-99fc-85b5c48a5b4d",
   "metadata": {},
   "source": [
    "Example 2"
   ]
  },
  {
   "cell_type": "code",
   "execution_count": 4,
   "id": "b9c2cb37-bce8-4534-a9eb-266319e98f6f",
   "metadata": {},
   "outputs": [
    {
     "name": "stdout",
     "output_type": "stream",
     "text": [
      "Sally\n"
     ]
    }
   ],
   "source": [
    "x = 4       #x is of type int\n",
    "x = \"Sally\" #x is now of type str\n",
    "print(x)"
   ]
  },
  {
   "cell_type": "markdown",
   "id": "f17c3dee-c78e-4aac-8f39-46e4f1f5138f",
   "metadata": {},
   "source": [
    "Example 3"
   ]
  },
  {
   "cell_type": "code",
   "execution_count": null,
   "id": "645af126-b524-4e32-85e1-d6a907e3d55d",
   "metadata": {},
   "outputs": [],
   "source": [
    "x=str(3) #x will be '3'\n",
    "y=int(3) #y will be 3\n",
    "z=float(3) #z will be 3.0"
   ]
  },
  {
   "cell_type": "markdown",
   "id": "0e791c29-7e33-4b46-b6b6-3a5eb386e27f",
   "metadata": {},
   "source": [
    "Example 4"
   ]
  },
  {
   "cell_type": "code",
   "execution_count": 6,
   "id": "41ffe878-ccc3-4d81-b2ab-08c0d4bf15eb",
   "metadata": {},
   "outputs": [
    {
     "name": "stdout",
     "output_type": "stream",
     "text": [
      "<class 'int'>\n",
      "<class 'str'>\n"
     ]
    }
   ],
   "source": [
    "x=5\n",
    "y='John'\n",
    "print(type(x))\n",
    "print(type(y))"
   ]
  },
  {
   "cell_type": "markdown",
   "id": "7210cbd8-5f3c-4ad2-8271-922814e69d2b",
   "metadata": {},
   "source": [
    "Example 5"
   ]
  },
  {
   "cell_type": "code",
   "execution_count": null,
   "id": "6f391b5d-cd01-4aa4-a474-1fef6bee39ea",
   "metadata": {},
   "outputs": [],
   "source": [
    "x=\"John\"\n",
    "#is the same as\n",
    "x='John'"
   ]
  },
  {
   "cell_type": "markdown",
   "id": "ff9b5009-df83-4c1f-b653-4693deb767b5",
   "metadata": {},
   "source": [
    "Example 6"
   ]
  },
  {
   "cell_type": "code",
   "execution_count": null,
   "id": "16fba25e-bee5-45b0-a739-c668260907d9",
   "metadata": {},
   "outputs": [],
   "source": [
    "a=4\n",
    "A=\"Sally\"\n",
    "#A will not overwrite a"
   ]
  }
 ],
 "metadata": {
  "kernelspec": {
   "display_name": "Python [conda env:base] *",
   "language": "python",
   "name": "conda-base-py"
  },
  "language_info": {
   "codemirror_mode": {
    "name": "ipython",
    "version": 3
   },
   "file_extension": ".py",
   "mimetype": "text/x-python",
   "name": "python",
   "nbconvert_exporter": "python",
   "pygments_lexer": "ipython3",
   "version": "3.12.7"
  }
 },
 "nbformat": 4,
 "nbformat_minor": 5
}

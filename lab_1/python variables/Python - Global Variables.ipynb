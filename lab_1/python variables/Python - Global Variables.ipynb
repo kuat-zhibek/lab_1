{
 "cells": [
  {
   "cell_type": "markdown",
   "id": "0447c94a-4369-4e1b-b0d1-cdb7a3cab21d",
   "metadata": {},
   "source": [
    "Example 1"
   ]
  },
  {
   "cell_type": "code",
   "execution_count": 1,
   "id": "878f82eb-029b-4ca3-9d46-ef17b2518938",
   "metadata": {},
   "outputs": [
    {
     "name": "stdout",
     "output_type": "stream",
     "text": [
      "Python is awesome\n"
     ]
    }
   ],
   "source": [
    "x=\"awesome\"\n",
    "def muFunc():\n",
    "    print(\"Python is \"+x)\n",
    "\n",
    "muFunc()"
   ]
  },
  {
   "cell_type": "markdown",
   "id": "0eaf75f1-b89c-4532-b777-2e7a91faafd8",
   "metadata": {},
   "source": [
    "Example 2"
   ]
  },
  {
   "cell_type": "code",
   "execution_count": 3,
   "id": "b5dac47b-e930-4336-9350-3f86993d5e4a",
   "metadata": {},
   "outputs": [
    {
     "name": "stdout",
     "output_type": "stream",
     "text": [
      "Python is fantastic\n",
      "python is awesome\n"
     ]
    }
   ],
   "source": [
    "x=\"awesome\"\n",
    "def myFunc():\n",
    "    x=\"fantastic\"\n",
    "    print(\"Python is \"+x)\n",
    "\n",
    "myFunc()\n",
    "print(\"python is \"+x)"
   ]
  },
  {
   "cell_type": "markdown",
   "id": "b9b816f4-38a1-4b64-94ae-7eb7bf5becad",
   "metadata": {},
   "source": [
    "Example 3"
   ]
  },
  {
   "cell_type": "code",
   "execution_count": 7,
   "id": "91b38aaf-a066-46ec-ad1b-bef4227bcfeb",
   "metadata": {},
   "outputs": [
    {
     "name": "stdout",
     "output_type": "stream",
     "text": [
      "Python is fantastic\n"
     ]
    }
   ],
   "source": [
    "def myFunc():\n",
    "    global x\n",
    "    x=\"fantastic\"\n",
    "\n",
    "myFunc()\n",
    "print(\"Python is \"+x)"
   ]
  },
  {
   "cell_type": "markdown",
   "id": "43631d40-2d0c-44ea-892a-1e25ae05eafb",
   "metadata": {},
   "source": [
    "Example 4"
   ]
  },
  {
   "cell_type": "code",
   "execution_count": 9,
   "id": "20d082c0-b87d-4b23-bfdc-da9be7b0e651",
   "metadata": {},
   "outputs": [
    {
     "name": "stdout",
     "output_type": "stream",
     "text": [
      "Python is fantastic\n"
     ]
    }
   ],
   "source": [
    "x=\"awesome\"\n",
    "def myFunc():\n",
    "    global x\n",
    "    x=\"fantastic\"\n",
    "\n",
    "myFunc()\n",
    "print(\"Python is \"+x)"
   ]
  }
 ],
 "metadata": {
  "kernelspec": {
   "display_name": "Python [conda env:base] *",
   "language": "python",
   "name": "conda-base-py"
  },
  "language_info": {
   "codemirror_mode": {
    "name": "ipython",
    "version": 3
   },
   "file_extension": ".py",
   "mimetype": "text/x-python",
   "name": "python",
   "nbconvert_exporter": "python",
   "pygments_lexer": "ipython3",
   "version": "3.12.7"
  }
 },
 "nbformat": 4,
 "nbformat_minor": 5
}

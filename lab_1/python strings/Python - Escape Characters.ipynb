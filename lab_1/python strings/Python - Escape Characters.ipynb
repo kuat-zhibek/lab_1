{
 "cells": [
  {
   "cell_type": "markdown",
   "id": "f7e9e9f8-52f4-45d3-b0c9-12c9b53c5478",
   "metadata": {},
   "source": [
    "Example 1"
   ]
  },
  {
   "cell_type": "code",
   "execution_count": 3,
   "id": "6ef8e77e-7382-4ca2-a3fb-3d4bea9254c8",
   "metadata": {},
   "outputs": [
    {
     "name": "stdout",
     "output_type": "stream",
     "text": [
      "We are the so called \" Vikings \" from the north\n"
     ]
    }
   ],
   "source": [
    "txt=\"We are the so called \\\" Vikings \\\" from the north\"\n",
    "print(txt)"
   ]
  }
 ],
 "metadata": {
  "kernelspec": {
   "display_name": "Python [conda env:base] *",
   "language": "python",
   "name": "conda-base-py"
  },
  "language_info": {
   "codemirror_mode": {
    "name": "ipython",
    "version": 3
   },
   "file_extension": ".py",
   "mimetype": "text/x-python",
   "name": "python",
   "nbconvert_exporter": "python",
   "pygments_lexer": "ipython3",
   "version": "3.12.7"
  }
 },
 "nbformat": 4,
 "nbformat_minor": 5
}
